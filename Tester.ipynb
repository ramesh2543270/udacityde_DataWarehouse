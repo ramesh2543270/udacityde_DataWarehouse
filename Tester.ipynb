{
 "cells": [
  {
   "cell_type": "code",
   "execution_count": 1,
   "metadata": {
    "editable": true
   },
   "outputs": [],
   "source": [
    "import os\n",
    "## Removed id , key below , needs to be added .....\n",
    "os.environ[\"AWS_ACCESS_KEY_ID\"] = \"\"\n",
    "os.environ[\"AWS_SECRET_ACCESS_KEY\"] = \"\""
   ]
  },
  {
   "cell_type": "code",
   "execution_count": 2,
   "metadata": {
    "editable": true
   },
   "outputs": [],
   "source": [
    "import configparser\n",
    "import psycopg2\n",
    "from sql_queries import copy_table_queries, insert_table_queries\n",
    "from Manage_RS_Cluster import get_Cluster_Props\n",
    "\n",
    "#Config\n",
    "config = configparser.ConfigParser()\n",
    "config.read('dwh.cfg')\n",
    "DWH_DB                 = config.get(\"DWH\",\"DWH_DB\")\n",
    "DWH_DB_USER            = config.get(\"DWH\",\"DWH_DB_USER\")\n",
    "DWH_DB_PASSWORD        = config.get(\"DWH\",\"DWH_DB_PASSWORD\")\n",
    "DWH_PORT               = config.get(\"DWH\",\"DWH_PORT\")\n",
    "\n",
    "\n",
    "\n",
    "\n",
    "def insert_tables(cur, conn):\n",
    "    for query in insert_table_queries:\n",
    "        print(\"Running Query - {}\".format(query))\n",
    "        cur.execute(query)\n",
    "        conn.commit()\n",
    "        \n",
    "def load_staging_tables(cur, conn):\n",
    "    for query in copy_table_queries:\n",
    "        cur.execute(query)\n",
    "        conn.commit()"
   ]
  },
  {
   "cell_type": "code",
   "execution_count": 3,
   "metadata": {
    "editable": true
   },
   "outputs": [],
   "source": [
    "DWH_ENDPOINT, _ = get_Cluster_Props()\n",
    "conn = psycopg2.connect(\"host={} dbname={} user={} password={} port={}\".format(\n",
    "                            DWH_ENDPOINT,\n",
    "                            DWH_DB,\n",
    "                            DWH_DB_USER,\n",
    "                            DWH_DB_PASSWORD,\n",
    "                            DWH_PORT\n",
    "                            ))\n",
    "cur = conn.cursor()"
   ]
  },
  {
   "cell_type": "code",
   "execution_count": 4,
   "metadata": {
    "editable": true
   },
   "outputs": [
    {
     "name": "stdout",
     "output_type": "stream",
     "text": [
      "Load staging tables\n",
      "Completed load of staging tables\n"
     ]
    }
   ],
   "source": [
    "print(\"Load staging tables\")\n",
    "load_staging_tables(cur, conn)\n",
    "print(\"Completed load of staging tables\")"
   ]
  },
  {
   "cell_type": "code",
   "execution_count": 5,
   "metadata": {
    "editable": true
   },
   "outputs": [
    {
     "name": "stdout",
     "output_type": "stream",
     "text": [
      "Inserting into main tables\n",
      "Running Query - \n",
      "    INSERT INTO songplays (startTime, userId, level, songId, artistId, sessionId, location, userAgent) \n",
      "        SELECT\n",
      "            TIMESTAMP 'epoch' + (e.ts/1000 * INTERVAL '1 second'),\n",
      "            e.userId,\n",
      "            e.level,\n",
      "            s.song_id,\n",
      "            s.artist_id,\n",
      "            e.sessionId,\n",
      "            e.location,\n",
      "            e.userAgent\n",
      "        FROM event_stg e\n",
      "        JOIN song_stg s ON\n",
      "            e.song = s.title AND\n",
      "            e.artist = s.artist_name \n",
      "        WHERE\n",
      "            e.page = 'NextSong'\n",
      "\n",
      "Running Query - \n",
      "    INSERT INTO users \n",
      "        SELECT  DISTINCT (userId)\n",
      "                userId,\n",
      "                firstName,\n",
      "                lastName,\n",
      "                gender,\n",
      "                level\n",
      "        FROM event_stg\n",
      "        WHERE userid is not null\n",
      "\n",
      "Running Query - \n",
      "    INSERT INTO songs \n",
      "        SELECT DISTINCT (song_id)\n",
      "            artist_id,\n",
      "            title,\n",
      "            artist_id,\n",
      "            year,\n",
      "            duration\n",
      "        FROM song_stg\n",
      "\n",
      "Running Query - \n",
      "    INSERT INTO artists (artistId,name,location,latitude,longitude)\n",
      "      SELECT DISTINCT (artist_id)\n",
      "        artist_id,\n",
      "        artist_name,\n",
      "        artist_location,\n",
      "        artist_latitude,\n",
      "        artist_longitude\n",
      "    FROM song_stg\n",
      "\n",
      "Running Query - \n",
      "    INSERT INTO time \n",
      "        WITH temp_ts AS (SELECT TIMESTAMP 'epoch' + (ts/1000 * INTERVAL '1 second') as ts FROM event_stg)\n",
      "        SELECT DISTINCT\n",
      "            ts,\n",
      "            extract(hour from ts),\n",
      "            extract(day from ts),\n",
      "            extract(week from ts),\n",
      "            extract(month from ts),\n",
      "            extract(year from ts),\n",
      "            extract(weekday from ts)\n",
      "        FROM temp_ts\n",
      "\n"
     ]
    }
   ],
   "source": [
    "\n",
    "print(\"Inserting into main tables\")\n",
    "insert_tables(cur, conn)"
   ]
  },
  {
   "cell_type": "code",
   "execution_count": null,
   "metadata": {
    "editable": true
   },
   "outputs": [],
   "source": [
    "conn.close()"
   ]
  },
  {
   "cell_type": "code",
   "execution_count": null,
   "metadata": {
    "editable": true
   },
   "outputs": [],
   "source": []
  }
 ],
 "metadata": {
  "kernelspec": {
   "display_name": "Python 3",
   "language": "python",
   "name": "python3"
  },
  "language_info": {
   "codemirror_mode": {
    "name": "ipython",
    "version": 3
   },
   "file_extension": ".py",
   "mimetype": "text/x-python",
   "name": "python",
   "nbconvert_exporter": "python",
   "pygments_lexer": "ipython3",
   "version": "3.6.3"
  }
 },
 "nbformat": 4,
 "nbformat_minor": 4
}
